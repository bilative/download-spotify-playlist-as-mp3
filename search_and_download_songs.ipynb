{
 "cells": [
  {
   "cell_type": "code",
   "execution_count": 1,
   "metadata": {},
   "outputs": [],
   "source": [
    "import yaml\n",
    "import warnings\n",
    "\n",
    "warnings.filterwarnings('ignore')\n",
    "from youtubesearchpython import VideosSearch\n",
    "\n",
    "from pytube import YouTube\n",
    "import os\n",
    "\n",
    "import spotipy\n",
    "from spotipy.oauth2 import SpotifyClientCredentials\n",
    "\n",
    "\n",
    "\n",
    "\n",
    "with open('connection.yaml', 'r') as file:\n",
    "    api_infos = yaml.safe_load(file)"
   ]
  },
  {
   "cell_type": "code",
   "execution_count": 2,
   "metadata": {},
   "outputs": [],
   "source": [
    "\n",
    "spoti_api_conn = SpotifyClientCredentials(client_id=api_infos['ClientID'], client_secret=api_infos['ClientSecret'])\n",
    "spoti = spotipy.Spotify(client_credentials_manager = spoti_api_conn)\n",
    "\n",
    "def spoti_playlist_to_song_list(playlist_url):\n",
    "    playlist_uri = playlist_url.split(\"/\")[-1].split(\"?\")[0]\n",
    "    song_uris = [x[\"track\"][\"uri\"] for x in spoti.playlist_tracks(playlist_uri)[\"items\"]]\n",
    "\n",
    "    track_name = []\n",
    "    artist_name = []\n",
    "    search_key = []\n",
    "    for track in spoti.playlist_tracks(playlist_uri)[\"items\"]:\n",
    "        #Track name\n",
    "        song_name = track[\"track\"][\"name\"]\n",
    "        track_name.append(song_name)\n",
    "        \n",
    "        artist_name.append(track[\"track\"][\"artists\"][0][\"name\"])\n",
    "        singer_name = track[\"track\"][\"artists\"][0][\"name\"]\n",
    "        \n",
    "        search_key.append(f'{song_name} - {singer_name}')\n",
    "    return search_key\n",
    "\n",
    "\n",
    "# Search song-with keyweard and find the youtube video url\n",
    "def find_video_url(search_key):\n",
    "    videosSearch = VideosSearch(search_key, limit = 2)\n",
    "\n",
    "    result_json = videosSearch.result()\n",
    "    return result_json['result'][0]['link']\n",
    "\n",
    "\n",
    "# Download the youtube video (only audio) with youtube video url\n",
    "# And save it to target path\n",
    "def download_mp3(url, target_file):\n",
    "    yt = YouTube(url)\n",
    "  \n",
    "    video = yt.streams.filter(only_audio=True).first()\n",
    "  \n",
    "    out_file = video.download(output_path=f'{target_file}')\n",
    "  \n",
    "    base, ext = os.path.splitext(out_file)\n",
    "    new_file = base + '.mp3'\n",
    "    os.rename(out_file, new_file)\n",
    "\n",
    "# Apply all steps in a function \n",
    "def download_song(song_name, playlis_name):\n",
    "    url = find_video_url(song_name)\n",
    "\n",
    "    download_mp3(url, playlis_name)\n",
    "    print(song_name, ' succesfully downloaded')\n",
    "\n",
    "\n",
    "# Apply all steps in a function \n",
    "def download_song_multi(spoti_playlist_url, playlis_name):\n",
    "    song_name_list = spoti_playlist_to_song_list(spoti_playlist_url)\n",
    "    for i in song_name_list:\n",
    "        print(f'{i} --> started    [ -  -  -  -  -  -  -  - ]')\n",
    "        url = find_video_url(i)\n",
    "        print(f'{i} --> url found  [############ -  -  -  - ]')\n",
    "\n",
    "        download_mp3(url, playlis_name)\n",
    "        print(f'{i} --> downloaded [########################] \\n\\n')"
   ]
  },
  {
   "cell_type": "code",
   "execution_count": 3,
   "metadata": {},
   "outputs": [
    {
     "name": "stdout",
     "output_type": "stream",
     "text": [
      "Dünya - Kuan --> started    [ -  -  -  -  -  -  -  - ]\n",
      "Dünya - Kuan --> url found  [############ -  -  -  - ]\n",
      "Dünya - Kuan --> downloaded [########################] \n",
      "\n",
      "\n",
      "Hacel Obası - Kuan --> started    [ -  -  -  -  -  -  -  - ]\n",
      "Hacel Obası - Kuan --> url found  [############ -  -  -  - ]\n",
      "Hacel Obası - Kuan --> downloaded [########################] \n",
      "\n",
      "\n",
      "Aşk Bir Umman - Kuan --> started    [ -  -  -  -  -  -  -  - ]\n",
      "Aşk Bir Umman - Kuan --> url found  [############ -  -  -  - ]\n",
      "Aşk Bir Umman - Kuan --> downloaded [########################] \n",
      "\n",
      "\n",
      "Değirmen - Kuan --> started    [ -  -  -  -  -  -  -  - ]\n",
      "Değirmen - Kuan --> url found  [############ -  -  -  - ]\n",
      "Değirmen - Kuan --> downloaded [########################] \n",
      "\n",
      "\n"
     ]
    }
   ],
   "source": [
    "download_song_multi('https://open.spotify.com/playlist/4924QyeIAEvM1o2FAeujZM', 'kuan_songs')"
   ]
  },
  {
   "cell_type": "code",
   "execution_count": null,
   "metadata": {},
   "outputs": [],
   "source": []
  }
 ],
 "metadata": {
  "kernelspec": {
   "display_name": "Python 3.8.8 ('base')",
   "language": "python",
   "name": "python3"
  },
  "language_info": {
   "codemirror_mode": {
    "name": "ipython",
    "version": 3
   },
   "file_extension": ".py",
   "mimetype": "text/x-python",
   "name": "python",
   "nbconvert_exporter": "python",
   "pygments_lexer": "ipython3",
   "version": "3.8.8"
  },
  "orig_nbformat": 4,
  "vscode": {
   "interpreter": {
    "hash": "8e574f2b0a5b2ee5eda7c5569c18619ebf5a2c3c97564e3a7f36ac3cfdb836dd"
   }
  }
 },
 "nbformat": 4,
 "nbformat_minor": 2
}
